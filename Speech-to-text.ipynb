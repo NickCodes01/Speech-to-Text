{
 "cells": [
  {
   "cell_type": "code",
   "execution_count": null,
   "id": "ea0ab622-8461-429b-90f3-887840b5f3b2",
   "metadata": {},
   "outputs": [],
   "source": [
    "# Nicholas Chludzinski"
   ]
  },
  {
   "cell_type": "code",
   "execution_count": 1,
   "id": "63f3572f-8555-41d2-bac4-75f10e9629b4",
   "metadata": {},
   "outputs": [
    {
     "name": "stdout",
     "output_type": "stream",
     "text": [
      "Device 0: Microsoft Sound Mapper - Input\n",
      "Device 1: Microphone (HD Pro Webcam C920)\n",
      "Device 2: Microphone (Realtek(R) Audio)\n",
      "Device 3: Microsoft Sound Mapper - Output\n",
      "Device 4: 1 - DELL U3421WE (AMD High Defi\n",
      "Device 5: Speakers/Headphones (Realtek(R)\n",
      "Device 6: Primary Sound Capture Driver\n",
      "Device 7: Microphone (HD Pro Webcam C920)\n",
      "Device 8: Microphone (Realtek(R) Audio)\n",
      "Device 9: Primary Sound Driver\n",
      "Device 10: 1 - DELL U3421WE (AMD High Definition Audio Device)\n",
      "Device 11: Speakers/Headphones (Realtek(R) Audio)\n",
      "Device 12: Speakers/Headphones (Realtek(R) Audio)\n",
      "Device 13: 1 - DELL U3421WE (AMD High Definition Audio Device)\n",
      "Device 14: Microphone (HD Pro Webcam C920)\n",
      "Device 15: Microphone (Realtek(R) Audio)\n",
      "Device 16: Microphone (HD Pro Webcam C920)\n",
      "Device 17: Output (AMD HD Audio HDMI out #0)\n",
      "Device 18: Stereo Mix (Realtek HD Audio Stereo input)\n",
      "Device 19: Speakers (Realtek HD Audio output)\n",
      "Device 20: Microphone (Realtek HD Audio Mic input)\n"
     ]
    }
   ],
   "source": [
    "import speech_recognition as sr\n",
    "\n",
    "# List all available microphones\n",
    "for index, name in enumerate(sr.Microphone.list_microphone_names()):\n",
    "    print(f\"Device {index}: {name}\")\n"
   ]
  },
  {
   "cell_type": "code",
   "execution_count": null,
   "id": "7e50d7d9-6847-4ecb-86f4-c9b7d41d7843",
   "metadata": {},
   "outputs": [],
   "source": []
  },
  {
   "cell_type": "code",
   "execution_count": null,
   "id": "dae745cb-a9a1-482c-a7fc-7eb99c95876b",
   "metadata": {},
   "outputs": [
    {
     "name": "stdout",
     "output_type": "stream",
     "text": [
      "Listening... Speak now!\n",
      "You said: Spotify play wish you were here by incubus\n"
     ]
    }
   ],
   "source": [
    "import speech_recognition as sr\n",
    "import tkinter as tk\n",
    "\n",
    "recognizer = sr.Recognizer()\n",
    "\n",
    "# Index of webcam microphone\n",
    "DEVICE_INDEX = 0  # Update this based on microphone list above\n",
    "\n",
    "def display_text(text):\n",
    "    \"\"\"Creates a window to display the recognized text in large font.\"\"\"\n",
    "    window = tk.Tk()\n",
    "    window.title(\"Speech Recognition Output\")\n",
    "\n",
    "    # Set window size\n",
    "    window.geometry(\"1200x400\")\n",
    "\n",
    "    # Create a label to display text\n",
    "    label = tk.Label(window, text=text, font=(\"Arial\", 45), wraplength=550, justify=\"center\")\n",
    "    label.pack(expand=True, padx=20, pady=20)\n",
    "\n",
    "    # Run the GUI loop\n",
    "    window.mainloop()\n",
    "\n",
    "def speech_to_text():\n",
    "    \"\"\"Captures speech from the microphone and displays it in a window.\"\"\"\n",
    "    with sr.Microphone(device_index=DEVICE_INDEX) as source:\n",
    "        print(\"Listening... Speak now!\")\n",
    "        \n",
    "        # Adjust for background noise\n",
    "        recognizer.adjust_for_ambient_noise(source)  \n",
    "        \n",
    "        # Capture audio\n",
    "        audio = recognizer.listen(source)\n",
    "\n",
    "        try:\n",
    "\n",
    "            # Convert speech to text\n",
    "            text = recognizer.recognize_google(audio)\n",
    "            \n",
    "            # Capitalize the first letter\n",
    "            formatted_text = text.capitalize()\n",
    "            print(\"You said:\", formatted_text)\n",
    "            \n",
    "            # Display the text in a separate window\n",
    "            display_text(f\"You said:\\n\\n{formatted_text}\")\n",
    "\n",
    "        except sr.UnknownValueError:\n",
    "            print(\"Could not understand the audio\")\n",
    "            display_text(\"Could not understand the audio. Please try again.\")\n",
    "        except sr.RequestError:\n",
    "            print(\"Error with the speech recognition service\")\n",
    "            display_text(\"Error with the speech recognition service.\")\n",
    "\n",
    "# Run the function\n",
    "speech_to_text()\n"
   ]
  },
  {
   "cell_type": "code",
   "execution_count": null,
   "id": "eb12eabc-4d8b-449b-bbb8-e302ad179b4d",
   "metadata": {},
   "outputs": [],
   "source": []
  }
 ],
 "metadata": {
  "kernelspec": {
   "display_name": "Python 3 (ipykernel)",
   "language": "python",
   "name": "python3"
  },
  "language_info": {
   "codemirror_mode": {
    "name": "ipython",
    "version": 3
   },
   "file_extension": ".py",
   "mimetype": "text/x-python",
   "name": "python",
   "nbconvert_exporter": "python",
   "pygments_lexer": "ipython3",
   "version": "3.12.7"
  }
 },
 "nbformat": 4,
 "nbformat_minor": 5
}
